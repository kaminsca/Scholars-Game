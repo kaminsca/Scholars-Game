{
 "cells": [
  {
   "cell_type": "code",
   "execution_count": 1,
   "metadata": {},
   "outputs": [],
   "source": [
    "# Functions\n",
    "def add(hand, target_hand):\n",
    "    target_hand.number = (target_hand.number + hand.number) % 5\n",
    "    return 1\n",
    "\n",
    "def test():\n",
    "    print('hello')\n",
    "\n",
    "def plumb(hand, target_hand):\n",
    "    # 1 beats rock\n",
    "    if target_hand.number !=5 or target_hand.state != 1:\n",
    "        print(\"invalid target\")\n",
    "        return -1\n",
    "    target_hand.kill_hand()\n",
    "    return 1\n",
    "\n",
    "def cut(hand, target_hand):\n",
    "    # 2, 4 scissors beat paper, or turn 1 into rock\n",
    "    if target_hand.number == 1:\n",
    "        target_hand.number = 5\n",
    "        target_hand.state = 1\n",
    "        return 1\n",
    "    if not (target_hand.number == 4 and target_hand.state == 0):\n",
    "        print(\"invalid target\")\n",
    "        return -1\n",
    "    target_hand.kill_hand()\n",
    "    return\n",
    "\n",
    "def double_plumb(hand, target_hands):\n",
    "    # 2 or 3 scissors beats two rocks\n",
    "    for targ in target_hands:\n",
    "        if not (targ.number == 5 and targ.state == 1):\n",
    "            print(\"invalid target\")\n",
    "            return -1\n",
    "    for targ in target_hands:\n",
    "        target_hand.kill_hand()\n",
    "    return 1\n",
    "\n",
    "def double_cut(hand, target_hands):\n",
    "    # 3 cuts two papers, two ones, or a mix at once\n",
    "    return\n",
    "\n",
    "def paper(hand, target_hand):\n",
    "    # 4 or 5 paper beats rock\n",
    "    if not (target_hand.number == 5 and target_hand.state == 1):\n",
    "        print(\"invalid target\")\n",
    "        return -1\n",
    "    target_hand.kill_hand()\n",
    "    return 1\n",
    "\n",
    "def rock(hand, target_hand):\n",
    "    # 5 rock beats any scissors\n",
    "    if not target_hand.number == 2 or target_hand.number == 3 or (target_hand.number == 4 and target_hand.state == 1):\n",
    "        print(\"invalid target\")\n",
    "        return -1\n",
    "    target_hand.kill_hand()\n",
    "    return\n",
    "\n",
    "def swap_state(hand):\n",
    "    # 4 swaps between paper and scissors\n",
    "    # 5 swaps between rock and paper\n",
    "    if hand.number == 4 or hand.number == 5:\n",
    "        hand.state = 1 - hand.state\n",
    "        return 1\n",
    "    print(\"invalid target\")\n",
    "    return -1 \n"
   ]
  },
  {
   "cell_type": "code",
   "execution_count": 2,
   "metadata": {},
   "outputs": [],
   "source": [
    "class Hand:\n",
    "    # state has meaning for a number of 4 or 5:\n",
    "    # state 0 for hand 4 is paper, 1 is scissors\n",
    "    # state 0 for hand 5 is paper, 1 is rock\n",
    "    def __init__(self, number, state):\n",
    "        self.number = number\n",
    "        self.state = state\n",
    "        self.actions = []\n",
    "        self.alive = True\n",
    "        \n",
    "    def set_actions(self):\n",
    "        number = self.number\n",
    "        state = self.state\n",
    "        # lets say each option is a title and function\n",
    "        self.actions = [('Add', add)]\n",
    "        if number == 1:\n",
    "            self.actions.append(('Plumb', plumb))\n",
    "        elif number == 2:\n",
    "            self.actions.append(('Cut', cut))\n",
    "            self.actions.append(('Double Plumb', double_plumb))\n",
    "        elif number == 3:\n",
    "            self.actions.append(('Double Cut', cut))\n",
    "            self.actions.append(('Double Plumb', double_plumb))\n",
    "        elif number == 4:\n",
    "            # paper\n",
    "            if state == 0:\n",
    "                self.actions.append(('Paper', paper))\n",
    "            else:\n",
    "                self.actions.append(('Cut', cut))\n",
    "            self.actions.append(('Swap State', swap_state))\n",
    "        elif number == 5:\n",
    "            # paper\n",
    "            if state == 0:\n",
    "                self.actions.append(('Paper', paper))\n",
    "            else:\n",
    "                self.actions.append(('Rock', rock))\n",
    "            self.actions.append(('Swap State', swap_state))\n",
    "\n",
    "    def kill_hand(self):\n",
    "        self.alive = False\n",
    "\n",
    "    def print_actions(self):\n",
    "        for index, action in enumerate(self.actions):\n",
    "            print(f'   {index}: {action[0]}')\n",
    "            \n",
    "    def print_hand(self):\n",
    "        print(f'Hand: {self.number}')\n",
    "        print(f'Alive: {self.alive}')\n",
    "        print('Actions: ')\n",
    "        self.print_actions()\n",
    "                                    "
   ]
  },
  {
   "cell_type": "code",
   "execution_count": 3,
   "metadata": {},
   "outputs": [],
   "source": [
    "class Player:\n",
    "    def __init__(self):\n",
    "        self.left = Hand(1,0)\n",
    "        self.left.set_actions()\n",
    "        self.right = Hand(1,0)\n",
    "        self.right.set_actions()\n",
    "        self.alive = True\n",
    "\n",
    "    def print_choices(self):\n",
    "        choices = set()\n",
    "        for index, action in enumerate(self.left.actions):\n",
    "            choices.add(action)\n",
    "        for index, action in enumerate(self.right.actions):\n",
    "            choices.add(action)\n",
    "        for index, choice in enumerate(choices):\n",
    "            print(f'{index}: {choice[0]}')\n",
    "\n",
    "    def print_player(self):\n",
    "        if self.left.alive:\n",
    "            print(f'Left Value {self.left.number}')\n",
    "            if self.left.number == 4:\n",
    "                if self.left.state == 0:\n",
    "                    print('State: paper')\n",
    "                else:\n",
    "                    print('State: scissors')\n",
    "            elif self.left.number == 5:\n",
    "                if self.left.state == 0:\n",
    "                    print('State: paper')\n",
    "                else:\n",
    "                    print('State: rock')\n",
    "        if self.right.alive:\n",
    "            print(f'Right Value {self.right.number}')\n",
    "            if self.right.number == 4:\n",
    "                if self.right.state == 0:\n",
    "                    print('State: paper')\n",
    "                else:\n",
    "                    print('State: scissors')\n",
    "            elif self.right.number == 5:\n",
    "                if self.right.state == 0:\n",
    "                    print('State: paper')\n",
    "                else:\n",
    "                    print('State: rock')"
   ]
  },
  {
   "cell_type": "code",
   "execution_count": 4,
   "metadata": {},
   "outputs": [],
   "source": [
    "def play_game(player1, player2):\n",
    "    turn = 0\n",
    "    while player1.alive and player2.alive:\n",
    "        if turn % 2 == 0:\n",
    "            cur = player1\n",
    "            opp = player2\n",
    "        else:\n",
    "            cur = player2\n",
    "            opp = player1\n",
    "        print(f\"\\n--- {turn % 2 + 1}'s turn ---\")\n",
    "        cur.print_player()\n",
    "        #cur.print_choices()\n",
    "        print('Opponent: ')\n",
    "        opp.print_player()\n",
    "        \n",
    "        hand_ind = int(input(\"Acting hand (0 for left, 1 for right): \"))\n",
    "        hand = cur.right if hand_ind else cur.left\n",
    "        hand.print_actions()\n",
    "        action_ind = int(input(\"Choose an action by index: \"))\n",
    "        opp_hand_ind = int(input(\"Recieving hand (0 for left, 1 for right): \"))\n",
    "        opp_hand = opp.right if opp_hand_ind else opp.left\n",
    "        response = hand.actions[action_ind][1](hand, opp_hand)\n",
    "        opp_hand.set_actions()\n",
    "\n",
    "        turn += 1"
   ]
  },
  {
   "cell_type": "code",
   "execution_count": 12,
   "metadata": {},
   "outputs": [
    {
     "name": "stdout",
     "output_type": "stream",
     "text": [
      "Hand: 1\n",
      "Alive: True\n",
      "Actions: \n",
      "   0: Add\n",
      "   1: Plumb\n"
     ]
    }
   ],
   "source": [
    "hand = Hand(1, 0)\n",
    "hand.set_actions()\n",
    "hand.print_hand()"
   ]
  },
  {
   "cell_type": "code",
   "execution_count": 13,
   "metadata": {},
   "outputs": [
    {
     "name": "stdout",
     "output_type": "stream",
     "text": [
      "Hand: 2\n",
      "Alive: True\n",
      "Actions: \n",
      "   0: Add\n",
      "   1: Cut\n",
      "   2: Double Plumb\n"
     ]
    }
   ],
   "source": [
    "hand2 = Hand(1,0)\n",
    "hand.set_actions()\n",
    "hand.actions[0][1](hand, hand2)\n",
    "hand2.set_actions()\n",
    "hand2.print_hand()"
   ]
  },
  {
   "cell_type": "code",
   "execution_count": 14,
   "metadata": {},
   "outputs": [
    {
     "name": "stdout",
     "output_type": "stream",
     "text": [
      "Hand: 3\n",
      "Alive: True\n",
      "Actions: \n",
      "   0: Add\n",
      "   1: Double Cut\n",
      "   2: Double Plumb\n"
     ]
    }
   ],
   "source": [
    "hand2.actions[0][1](hand2, hand)\n",
    "hand.set_actions()\n",
    "hand.print_hand()"
   ]
  },
  {
   "cell_type": "code",
   "execution_count": 6,
   "metadata": {},
   "outputs": [
    {
     "name": "stdout",
     "output_type": "stream",
     "text": [
      "0: Plumb\n",
      "1: Add\n"
     ]
    }
   ],
   "source": [
    "# test player\n",
    "player1 = Player()\n",
    "player1.print_choices()\n",
    "player2 = Player()"
   ]
  },
  {
   "cell_type": "code",
   "execution_count": 7,
   "metadata": {
    "scrolled": true
   },
   "outputs": [
    {
     "name": "stdout",
     "output_type": "stream",
     "text": [
      "\n",
      "--- 1's turn ---\n",
      "Left Value 1\n",
      "Right Value 1\n",
      "Opponent: \n",
      "Left Value 1\n",
      "Right Value 1\n",
      "   0: Add\n",
      "   1: Plumb\n"
     ]
    },
    {
     "ename": "ValueError",
     "evalue": "invalid literal for int() with base 10: ''",
     "output_type": "error",
     "traceback": [
      "\u001b[1;31m---------------------------------------------------------------------------\u001b[0m",
      "\u001b[1;31mValueError\u001b[0m                                Traceback (most recent call last)",
      "Cell \u001b[1;32mIn[7], line 2\u001b[0m\n\u001b[0;32m      1\u001b[0m \u001b[38;5;66;03m# test gameplay\u001b[39;00m\n\u001b[1;32m----> 2\u001b[0m \u001b[43mplay_game\u001b[49m\u001b[43m(\u001b[49m\u001b[43mplayer1\u001b[49m\u001b[43m,\u001b[49m\u001b[43m \u001b[49m\u001b[43mplayer2\u001b[49m\u001b[43m)\u001b[49m\n",
      "Cell \u001b[1;32mIn[4], line 19\u001b[0m, in \u001b[0;36mplay_game\u001b[1;34m(player1, player2)\u001b[0m\n\u001b[0;32m     17\u001b[0m hand \u001b[38;5;241m=\u001b[39m cur\u001b[38;5;241m.\u001b[39mright \u001b[38;5;28;01mif\u001b[39;00m hand_ind \u001b[38;5;28;01melse\u001b[39;00m cur\u001b[38;5;241m.\u001b[39mleft\n\u001b[0;32m     18\u001b[0m hand\u001b[38;5;241m.\u001b[39mprint_actions()\n\u001b[1;32m---> 19\u001b[0m action_ind \u001b[38;5;241m=\u001b[39m \u001b[38;5;28;43mint\u001b[39;49m\u001b[43m(\u001b[49m\u001b[38;5;28;43minput\u001b[39;49m\u001b[43m(\u001b[49m\u001b[38;5;124;43m\"\u001b[39;49m\u001b[38;5;124;43mChoose an action by index: \u001b[39;49m\u001b[38;5;124;43m\"\u001b[39;49m\u001b[43m)\u001b[49m\u001b[43m)\u001b[49m\n\u001b[0;32m     20\u001b[0m opp_hand_ind \u001b[38;5;241m=\u001b[39m \u001b[38;5;28mint\u001b[39m(\u001b[38;5;28minput\u001b[39m(\u001b[38;5;124m\"\u001b[39m\u001b[38;5;124mRecieving hand (0 for left, 1 for right): \u001b[39m\u001b[38;5;124m\"\u001b[39m))\n\u001b[0;32m     21\u001b[0m opp_hand \u001b[38;5;241m=\u001b[39m opp\u001b[38;5;241m.\u001b[39mright \u001b[38;5;28;01mif\u001b[39;00m opp_hand_ind \u001b[38;5;28;01melse\u001b[39;00m opp\u001b[38;5;241m.\u001b[39mleft\n",
      "\u001b[1;31mValueError\u001b[0m: invalid literal for int() with base 10: ''"
     ]
    }
   ],
   "source": [
    "# test gameplay\n",
    "play_game(player1, player2)"
   ]
  },
  {
   "cell_type": "code",
   "execution_count": null,
   "metadata": {},
   "outputs": [],
   "source": []
  }
 ],
 "metadata": {
  "kernelspec": {
   "display_name": "Python 3",
   "language": "python",
   "name": "python3"
  },
  "language_info": {
   "codemirror_mode": {
    "name": "ipython",
    "version": 3
   },
   "file_extension": ".py",
   "mimetype": "text/x-python",
   "name": "python",
   "nbconvert_exporter": "python",
   "pygments_lexer": "ipython3",
   "version": "3.12.0"
  }
 },
 "nbformat": 4,
 "nbformat_minor": 4
}
